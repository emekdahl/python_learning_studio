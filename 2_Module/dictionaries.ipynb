{
 "cells": [
  {
   "cell_type": "code",
   "execution_count": 1,
   "metadata": {},
   "outputs": [],
   "source": [
    "nba_teams = {\n",
    "    'Chicago': 'Bulls',\n",
    "    'Los Angeles': 'Lakers',\n",
    "    'San Francisco': 'Golden State Warriors'\n",
    "}"
   ]
  },
  {
   "cell_type": "code",
   "execution_count": 2,
   "metadata": {},
   "outputs": [
    {
     "data": {
      "text/plain": [
       "'Bulls'"
      ]
     },
     "execution_count": 2,
     "metadata": {},
     "output_type": "execute_result"
    }
   ],
   "source": [
    "nba_teams['Chicago']"
   ]
  },
  {
   "cell_type": "code",
   "execution_count": 3,
   "metadata": {},
   "outputs": [
    {
     "ename": "KeyError",
     "evalue": "'Boston'",
     "output_type": "error",
     "traceback": [
      "\u001b[0;31m---------------------------------------------------------------------------\u001b[0m",
      "\u001b[0;31mKeyError\u001b[0m                                  Traceback (most recent call last)",
      "\u001b[0;32m<ipython-input-3-ec95f5c455ad>\u001b[0m in \u001b[0;36m<module>\u001b[0;34m\u001b[0m\n\u001b[0;32m----> 1\u001b[0;31m \u001b[0mnba_teams\u001b[0m\u001b[0;34m[\u001b[0m\u001b[0;34m'Boston'\u001b[0m\u001b[0;34m]\u001b[0m\u001b[0;34m\u001b[0m\u001b[0;34m\u001b[0m\u001b[0m\n\u001b[0m",
      "\u001b[0;31mKeyError\u001b[0m: 'Boston'"
     ]
    }
   ],
   "source": [
    "nba_teams['Boston'] # key error when the key doesn't exist"
   ]
  },
  {
   "cell_type": "code",
   "execution_count": 4,
   "metadata": {},
   "outputs": [
    {
     "data": {
      "text/plain": [
       "{'Chicago': 'Bulls',\n",
       " 'Los Angeles': 'Lakers',\n",
       " 'San Francisco': 'Golden State Warriors',\n",
       " 'Boston': 'Celtics '}"
      ]
     },
     "execution_count": 4,
     "metadata": {},
     "output_type": "execute_result"
    }
   ],
   "source": [
    "nba_teams['Boston'] = 'Celtics '\n",
    "nba_teams"
   ]
  },
  {
   "cell_type": "code",
   "execution_count": 5,
   "metadata": {},
   "outputs": [
    {
     "data": {
      "text/plain": [
       "{'Chicago': 'Bulls',\n",
       " 'Los Angeles': 'Lakers',\n",
       " 'San Francisco': 'Golden State Warriors',\n",
       " 'Boston': 'Celtics ',\n",
       " 'Toronto': 'Raptors'}"
      ]
     },
     "execution_count": 5,
     "metadata": {},
     "output_type": "execute_result"
    }
   ],
   "source": [
    "nba_teams['Toronto'] = 'Raptors'\n",
    "nba_teams"
   ]
  },
  {
   "cell_type": "code",
   "execution_count": 6,
   "metadata": {},
   "outputs": [
    {
     "data": {
      "text/plain": [
       "{'Chicago': 'Bulls',\n",
       " 'Los Angeles': 'Lakers',\n",
       " 'San Francisco': 'Golden State Warriors',\n",
       " 'Boston': 'Celtics '}"
      ]
     },
     "execution_count": 6,
     "metadata": {},
     "output_type": "execute_result"
    }
   ],
   "source": [
    "del nba_teams['Toronto']\n",
    "nba_teams\n"
   ]
  },
  {
   "cell_type": "markdown",
   "metadata": {},
   "source": [
    "### Dictionary Methods"
   ]
  },
  {
   "cell_type": "code",
   "execution_count": 7,
   "metadata": {},
   "outputs": [
    {
     "data": {
      "text/plain": [
       "'Bulls'"
      ]
     },
     "execution_count": 7,
     "metadata": {},
     "output_type": "execute_result"
    }
   ],
   "source": [
    "nba_teams.get('Chicago')"
   ]
  },
  {
   "cell_type": "code",
   "execution_count": 8,
   "metadata": {},
   "outputs": [
    {
     "data": {
      "text/plain": [
       "{'Chicago': 'Bulls',\n",
       " 'San Francisco': 'Golden State Warriors',\n",
       " 'Boston': 'Celtics '}"
      ]
     },
     "execution_count": 8,
     "metadata": {},
     "output_type": "execute_result"
    }
   ],
   "source": [
    "nba_teams.pop('Los Angeles')\n",
    "nba_teams"
   ]
  },
  {
   "cell_type": "code",
   "execution_count": 21,
   "metadata": {},
   "outputs": [],
   "source": [
    "# Nesting\n",
    "\n",
    "jersey_numbers = {\n",
    "    33: ['Kareem Abdul-Jabbar', 'Larry Bird', 'Patrick Ewing'],\n",
    "    10: ['Walt Frazier', 'Maurice Cheeks', 'Tim Hardaway'],\n",
    "    23: ['Michael Jordan', 'Lebron James', 'Calvin Murphy'],\n",
    "}"
   ]
  },
  {
   "cell_type": "code",
   "execution_count": null,
   "metadata": {},
   "outputs": [],
   "source": []
  },
  {
   "cell_type": "code",
   "execution_count": 22,
   "metadata": {},
   "outputs": [
    {
     "data": {
      "text/plain": [
       "{33: ['Kareem Abdul-Jabbar', 'Larry Bird', 'Patrick Ewing'],\n",
       " 10: ['Walt Frazier', 'Maurice Cheeks', 'Tim Hardaway'],\n",
       " 23: ['Michael Jordan', 'Lebron James', 'Calvin Murphy']}"
      ]
     },
     "execution_count": 22,
     "metadata": {},
     "output_type": "execute_result"
    }
   ],
   "source": [
    "jersey_numbers"
   ]
  },
  {
   "cell_type": "code",
   "execution_count": 11,
   "metadata": {},
   "outputs": [
    {
     "data": {
      "text/plain": [
       "['Kareem Abdul-Jabbar', 'Larry Bird', 'Patrick Ewing']"
      ]
     },
     "execution_count": 11,
     "metadata": {},
     "output_type": "execute_result"
    }
   ],
   "source": [
    "jersey_numbers.get(33)"
   ]
  },
  {
   "cell_type": "code",
   "execution_count": 12,
   "metadata": {},
   "outputs": [
    {
     "data": {
      "text/plain": [
       "3"
      ]
     },
     "execution_count": 12,
     "metadata": {},
     "output_type": "execute_result"
    }
   ],
   "source": [
    "len(jersey_numbers)"
   ]
  },
  {
   "cell_type": "code",
   "execution_count": 14,
   "metadata": {},
   "outputs": [
    {
     "data": {
      "text/plain": [
       "{'Green Book': {'Cast': ['Viggo Mortensen', 'Mahershala Ali'],\n",
       "  'Director': 'Peter Farrelly',\n",
       "  'Oscar Nominations': 5,\n",
       "  'Oscar Wins': 3}}"
      ]
     },
     "execution_count": 14,
     "metadata": {},
     "output_type": "execute_result"
    }
   ],
   "source": [
    "# nested dictionaries\n",
    "\n",
    "oscar_movie_details = {\n",
    "    'Green Book': {\n",
    "        'Cast': ['Viggo Mortensen', 'Mahershala Ali'],\n",
    "        'Director': 'Peter Farrelly',\n",
    "        'Oscar Nominations': 5,\n",
    "        'Oscar Wins': 3\n",
    "    }\n",
    "}\n",
    "oscar_movie_details"
   ]
  },
  {
   "cell_type": "markdown",
   "metadata": {},
   "source": [
    "## Looping"
   ]
  },
  {
   "cell_type": "code",
   "execution_count": 17,
   "metadata": {},
   "outputs": [
    {
     "name": "stdout",
     "output_type": "stream",
     "text": [
      "Chicago Bulls\n",
      "San Francisco Golden State Warriors\n",
      "Boston Celtics \n"
     ]
    }
   ],
   "source": [
    "for city,team in nba_teams.items():\n",
    "    print (city, team)"
   ]
  },
  {
   "cell_type": "code",
   "execution_count": 23,
   "metadata": {},
   "outputs": [
    {
     "name": "stdout",
     "output_type": "stream",
     "text": [
      "Jersey # 33:\n",
      "\tKareem Abdul-Jabbar.\n",
      "\tLarry Bird.\n",
      "\tPatrick Ewing.\n",
      "Jersey # 10:\n",
      "\tWalt Frazier.\n",
      "\tMaurice Cheeks.\n",
      "\tTim Hardaway.\n",
      "Jersey # 23:\n",
      "\tMichael Jordan.\n",
      "\tLebron James.\n",
      "\tCalvin Murphy.\n"
     ]
    }
   ],
   "source": [
    "for jersey_number, players in jersey_numbers.items():\n",
    "    print(f'Jersey # {jersey_number}:')\n",
    "    for name in players:\n",
    "        print(f'\\t{name}.')"
   ]
  },
  {
   "cell_type": "code",
   "execution_count": null,
   "metadata": {},
   "outputs": [],
   "source": [
    "for city in nba_teams"
   ]
  },
  {
   "cell_type": "code",
   "execution_count": null,
   "metadata": {},
   "outputs": [],
   "source": []
  }
 ],
 "metadata": {
  "kernelspec": {
   "display_name": "Python 3",
   "language": "python",
   "name": "python3"
  },
  "language_info": {
   "codemirror_mode": {
    "name": "ipython",
    "version": 3
   },
   "file_extension": ".py",
   "mimetype": "text/x-python",
   "name": "python",
   "nbconvert_exporter": "python",
   "pygments_lexer": "ipython3",
   "version": "3.7.3"
  }
 },
 "nbformat": 4,
 "nbformat_minor": 2
}
